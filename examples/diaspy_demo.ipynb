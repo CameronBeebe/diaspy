{
 "cells": [
  {
   "cell_type": "markdown",
   "metadata": {},
   "source": [
    "# Diaspy Demo: Dialectical LLM Workflows\n",
    "\n",
    "This notebook demonstrates the core functionality of the `diaspy` package, which uses DSPy and multi-agent dialectical processes to improve LLM reliability by reducing hallucinations and prompt sensitivity.\n",
    "\n",
    "## Core Concepts\n",
    "\n",
    "- **Thesis-Antithesis-Synthesis**: Hegelian dialectics for balanced reasoning\n",
    "- **Multi-Agent Debate**: Adversarial truth-oriented processes  \n",
    "- **Expert Consultation**: Domain-specific perspectives\n",
    "- **Iterative Refinement**: Critic-driven feedback loops\n",
    "\n",
    "Let's explore the three main modes: `binary`, `debate`, and `experts`.\n"
   ]
  },
  {
   "cell_type": "code",
   "execution_count": 1,
   "metadata": {},
   "outputs": [
    {
     "name": "stdout",
     "output_type": "stream",
     "text": [
      "API key found, setting up DSPy with Grok-3-mini...\n",
      "✓ DSPy configured successfully\n"
     ]
    }
   ],
   "source": [
    "# Import necessary modules\n",
    "import os\n",
    "import dspy\n",
    "# Developing diaspy, ensure \"pip install -e .\" from package directory\n",
    "from diaspy.responders import DialecticResponder\n",
    "from diaspy.utils import compile_agents, trainset\n",
    "from diaspy.agents import ThesisAgent, AntithesisAgent, SynthesisAgent, CriticAgent\n",
    "\n",
    "# Setup environment (you need to set your XAI_API_KEY)\n",
    "api_key = os.environ.get('XAI_API_KEY')\n",
    "if not api_key:\n",
    "    print(\"Warning: XAI_API_KEY not set. Please set it before running the cells below.\")\n",
    "    print(\"export XAI_API_KEY='your-api-key-here'\")\n",
    "else:\n",
    "    print(\"API key found, setting up DSPy with Grok-3-mini...\")\n",
    "    grok = dspy.LM(model=\"xai/grok-3-mini\", api_key=api_key, cache=False)\n",
    "    dspy.settings.configure(lm=grok)\n",
    "    print(\"✓ DSPy configured successfully\")"
   ]
  },
  {
   "cell_type": "markdown",
   "metadata": {},
   "source": [
    "## 1. Individual Agents\n",
    "\n",
    "First, let's explore the individual agents that form the foundation of our dialectical process."
   ]
  },
  {
   "cell_type": "code",
   "execution_count": 2,
   "metadata": {},
   "outputs": [
    {
     "name": "stdout",
     "output_type": "stream",
     "text": [
      "=== Testing Individual Agents ===\n",
      "Query: What is the nature of consciousness?\n",
      "\n",
      "Thesis: The nature of consciousness is best understood as an emergent phenomenon arising from intricate neural interactions in the brain, encompassing subjective experiences, self-awareness, and cognitive processes, though it defies complete explanation and continues to be explored through philosophical inquiry and scientific research.\n",
      "\n",
      "Antithesis: Consciousness is fundamentally a non-physical or intrinsic property of the universe, not merely an emergent outcome of neural interactions in the brain, but rather an independent essence that may precede or interact with physical processes, as explored in dualistic or idealist philosophies, thereby challenging reductionist explanations and highlighting the irreducible nature of subjective experiences.\n",
      "\n",
      "Synthesis: Consciousness is likely a multifaceted phenomenon that encompasses both emergent processes arising from neural interactions in the brain and an intrinsic, non-physical aspect that may be fundamental to the universe. This integrated view posits that while brain activity is necessary for individual experiences and cognitive functions, consciousness itself could represent a deeper, irreducible property interacting with physical systems, encouraging a holistic approach that combines scientific investigation with philosophical reflection to advance our understanding.\n",
      "\n",
      "Critique: The synthesis provides a commendable attempt to bridge the thesis and antithesis by proposing a multifaceted view of consciousness, effectively highlighting the need for interdisciplinary approaches. However, it falls short in factual accuracy by endorsing an intrinsic, non-physical aspect without sufficient empirical backing, which risks unsubstantiated speculation. Logically, the integration is inconsistent due to unclear explanations of how emergent and intrinsic elements interact, potentially rendering parts of it unfalsifiable per Popper's criteria. While balanced in representation, it could improve by offering more concrete, testable hypotheses to enhance its scientific rigor and address these weaknesses.\n",
      "Score: 0.75\n",
      "\n"
     ]
    }
   ],
   "source": [
    "# Test individual agents before compilation\n",
    "if api_key:\n",
    "    # Create uncompiled agents for initial testing\n",
    "    thesis_agent = ThesisAgent()\n",
    "    antithesis_agent = AntithesisAgent()\n",
    "    synthesis_agent = SynthesisAgent()\n",
    "    critic_agent = CriticAgent()\n",
    "    \n",
    "    # Test query\n",
    "    test_query = \"What is the nature of consciousness?\"\n",
    "    \n",
    "    print(\"=== Testing Individual Agents ===\")\n",
    "    print(f\"Query: {test_query}\\n\")\n",
    "    \n",
    "    # Generate thesis\n",
    "    thesis = thesis_agent(test_query)\n",
    "    print(f\"Thesis: {thesis}\\n\")\n",
    "    \n",
    "    # Generate antithesis\n",
    "    antithesis = antithesis_agent(test_query, thesis)\n",
    "    print(f\"Antithesis: {antithesis}\\n\")\n",
    "    \n",
    "    # Generate synthesis\n",
    "    synthesis = synthesis_agent(test_query, thesis, antithesis)\n",
    "    print(f\"Synthesis: {synthesis}\\n\")\n",
    "    \n",
    "    # Critique the synthesis\n",
    "    critique, score = critic_agent(test_query, thesis, antithesis, synthesis)\n",
    "    print(f\"Critique: {critique}\")\n",
    "    print(f\"Score: {score}\\n\")\n",
    "else:\n",
    "    print(\"Skipping agent tests - API key not configured\")"
   ]
  },
  {
   "cell_type": "markdown",
   "metadata": {},
   "source": [
    "## 2. Compiled Agents and Full Responder\n",
    "\n",
    "Now let's compile the agents using DSPy's optimization and create the full dialectical responder."
   ]
  },
  {
   "cell_type": "code",
   "execution_count": null,
   "metadata": {},
   "outputs": [
    {
     "name": "stdout",
     "output_type": "stream",
     "text": [
      "Compiling agents with DSPy optimization...\n",
      "This may take a moment as agents are optimized with training examples...\n",
      "\n"
     ]
    },
    {
     "name": "stderr",
     "output_type": "stream",
     "text": [
      "100%|█████████████████████████████████████████████| 3/3 [00:21<00:00,  7.16s/it]\n"
     ]
    },
    {
     "name": "stdout",
     "output_type": "stream",
     "text": [
      "Bootstrapped 3 full traces after 2 examples for up to 1 rounds, amounting to 3 attempts.\n"
     ]
    },
    {
     "name": "stderr",
     "output_type": "stream",
     "text": [
      "100%|█████████████████████████████████████████████| 3/3 [00:19<00:00,  6.60s/it]\n"
     ]
    },
    {
     "name": "stdout",
     "output_type": "stream",
     "text": [
      "Bootstrapped 3 full traces after 2 examples for up to 1 rounds, amounting to 3 attempts.\n"
     ]
    },
    {
     "name": "stderr",
     "output_type": "stream",
     "text": [
      "100%|█████████████████████████████████████████████| 3/3 [00:18<00:00,  6.03s/it]\n"
     ]
    },
    {
     "name": "stdout",
     "output_type": "stream",
     "text": [
      "Bootstrapped 3 full traces after 2 examples for up to 1 rounds, amounting to 3 attempts.\n"
     ]
    },
    {
     "name": "stderr",
     "output_type": "stream",
     "text": [
      "100%|█████████████████████████████████████████████| 3/3 [00:25<00:00,  8.38s/it]\n"
     ]
    },
    {
     "name": "stdout",
     "output_type": "stream",
     "text": [
      "Bootstrapped 3 full traces after 2 examples for up to 1 rounds, amounting to 3 attempts.\n"
     ]
    },
    {
     "name": "stderr",
     "output_type": "stream",
     "text": [
      "100%|█████████████████████████████████████████████| 1/1 [00:04<00:00,  4.85s/it]\n"
     ]
    },
    {
     "name": "stdout",
     "output_type": "stream",
     "text": [
      "Bootstrapped 1 full traces after 0 examples for up to 1 rounds, amounting to 1 attempts.\n"
     ]
    },
    {
     "name": "stderr",
     "output_type": "stream",
     "text": [
      "100%|█████████████████████████████████████████████| 1/1 [00:04<00:00,  4.39s/it]\n"
     ]
    },
    {
     "name": "stdout",
     "output_type": "stream",
     "text": [
      "Bootstrapped 1 full traces after 0 examples for up to 1 rounds, amounting to 1 attempts.\n"
     ]
    },
    {
     "name": "stderr",
     "output_type": "stream",
     "text": [
      "  0%|                                                     | 0/2 [00:00<?, ?it/s]"
     ]
    }
   ],
   "source": [
    "# Compile agents using training data and create responder\n",
    "if api_key:\n",
    "    print(\"Compiling agents with DSPy optimization...\")\n",
    "    print(\"This may take a moment as agents are optimized with training examples...\\n\")\n",
    "    \n",
    "    # Compile all agents\n",
    "    compiled_agents = compile_agents(trainset)\n",
    "    print(\"✓ Agents compiled successfully\")\n",
    "    \n",
    "    # Create the dialectical responder\n",
    "    responder = DialecticResponder(**compiled_agents)\n",
    "    print(\"✓ DialecticResponder created\")\n",
    "    \n",
    "    # Show what training data looks like\n",
    "    print(f\"\\nTraining set contains {len(trainset)} examples\")\n",
    "    print(\"Sample training example:\")\n",
    "    sample = trainset[0]\n",
    "    print(f\"  Query: {sample.query}\")\n",
    "    print(f\"  Thesis: {sample.thesis}\")\n",
    "else:\n",
    "    print(\"Skipping compilation - API key not configured\")"
   ]
  },
  {
   "cell_type": "markdown",
   "metadata": {},
   "source": [
    "## 3. Mode 1: Binary Dialectic\n",
    "\n",
    "The binary mode implements classic Hegelian dialectics: thesis → antithesis → synthesis, with iterative refinement based on critic feedback."
   ]
  },
  {
   "cell_type": "code",
   "execution_count": null,
   "metadata": {},
   "outputs": [],
   "source": [
    "# Test Binary Mode\n",
    "if api_key:\n",
    "    print(\"=== Binary Dialectic Mode ===\")\n",
    "    \n",
    "    query = \"Is artificial intelligence a threat to humanity?\"\n",
    "    print(f\"Query: {query}\\n\")\n",
    "    \n",
    "    # Run binary dialectic\n",
    "    prediction = responder(query=query, mode='binary', max_iterations=2)\n",
    "    \n",
    "    print(\"Results:\")\n",
    "    print(f\"Thesis: {prediction.thesis}\\n\")\n",
    "    print(f\"Antithesis: {prediction.antithesis}\\n\") \n",
    "    print(f\"Final Synthesis: {prediction.synthesis}\\n\")\n",
    "    \n",
    "    print(\"Critique History:\")\n",
    "    for i, critique in enumerate(prediction.critiques):\n",
    "        print(f\"  Iteration {i+1}: {critique}\\n\")\n",
    "    \n",
    "    print(f\"Total iterations: {len(prediction.critiques)}\")\n",
    "else:\n",
    "    print(\"Skipping binary mode test - API key not configured\")"
   ]
  },
  {
   "cell_type": "markdown",
   "metadata": {},
   "source": [
    "## 4. Mode 2: Debate Mode\n",
    "\n",
    "The debate mode simulates adversarial discussion with alternating pro/con arguments, ending in synthesis."
   ]
  },
  {
   "cell_type": "code",
   "execution_count": null,
   "metadata": {},
   "outputs": [],
   "source": [
    "# Test Debate Mode\n",
    "if api_key:\n",
    "    print(\"=== Debate Mode ===\")\n",
    "    \n",
    "    query = \"Should we pursue genetic engineering of humans?\"\n",
    "    print(f\"Query: {query}\\n\")\n",
    "    \n",
    "    # Run debate mode\n",
    "    prediction = responder(query=query, mode='debate', max_rounds=3, max_iterations=2)\n",
    "    \n",
    "    print(\"Debate History:\")\n",
    "    for i, argument in enumerate(prediction.debate_history):\n",
    "        print(f\"  {i+1}. {argument}\\n\")\n",
    "    \n",
    "    print(f\"Final Synthesis: {prediction.synthesis}\\n\")\n",
    "    print(f\"Total debate rounds: {len(prediction.debate_history)}\")\n",
    "else:\n",
    "    print(\"Skipping debate mode test - API key not configured\")"
   ]
  },
  {
   "cell_type": "markdown",
   "metadata": {},
   "source": [
    "## 5. Mode 3: Expert Consultation\n",
    "\n",
    "The experts mode gathers opinions from different domain specialists and synthesizes them into a comprehensive response."
   ]
  },
  {
   "cell_type": "code",
   "execution_count": null,
   "metadata": {},
   "outputs": [],
   "source": [
    "# Test Expert Mode 1\n",
    "if api_key:\n",
    "    print(\"=== Expert Consultation Mode ===\")\n",
    "    \n",
    "    query = \"How can we address climate change effectively?\"\n",
    "    domains = ['science', 'economics', 'policy', 'technology']\n",
    "    print(f\"Query: {query}\")\n",
    "    print(f\"Expert domains: {domains}\\n\")\n",
    "    \n",
    "    # Run expert consultation mode\n",
    "    prediction = responder(query=query, mode='experts', domains=domains, max_iterations=2)\n",
    "    \n",
    "    print(\"Expert Opinions:\")\n",
    "    for domain, opinion in prediction.expert_opinions.items():\n",
    "        print(f\"  {domain.capitalize()}: {opinion}\\n\")\n",
    "    \n",
    "    print(f\"Synthesized Response: {prediction.synthesis}\\n\")\n",
    "    print(f\"Domains consulted: {len(prediction.expert_opinions)}\")\n",
    "else:\n",
    "    print(\"Skipping expert mode test - API key not configured\")"
   ]
  },
  {
   "cell_type": "code",
   "execution_count": null,
   "metadata": {},
   "outputs": [],
   "source": [
    "# Test Expert Mode 2\n",
    "if api_key:\n",
    "    print(\"=== Expert Consultation Mode ===\")\n",
    "    \n",
    "    query = \"How can we make progress in quantum foundations?\"\n",
    "    domains = ['science', 'physics', 'quantum theory', 'Bohmian mechanics']\n",
    "    print(f\"Query: {query}\")\n",
    "    print(f\"Expert domains: {domains}\\n\")\n",
    "    \n",
    "    # Run expert consultation mode\n",
    "    prediction = responder(query=query, mode='experts', domains=domains, max_iterations=2)\n",
    "    \n",
    "    print(\"Expert Opinions:\")\n",
    "    for domain, opinion in prediction.expert_opinions.items():\n",
    "        print(f\"  {domain.capitalize()}: {opinion}\\n\")\n",
    "    \n",
    "    print(f\"Synthesized Response: {prediction.synthesis}\\n\")\n",
    "    print(f\"Domains consulted: {len(prediction.expert_opinions)}\")\n",
    "else:\n",
    "    print(\"Skipping expert mode test - API key not configured\")"
   ]
  },
  {
   "cell_type": "code",
   "execution_count": null,
   "metadata": {},
   "outputs": [],
   "source": [
    "# Test Expert Mode 3\n",
    "if api_key:\n",
    "    print(\"=== Expert Consultation Mode ===\")\n",
    "    \n",
    "    query = \"What theoretical assumptions must be revisited to make progress in quantum foundations?\"\n",
    "    domains = ['physicist1', 'physicist2', 'quantum theorist', 'Bohmian mechanics professor']\n",
    "    print(f\"Query: {query}\")\n",
    "    print(f\"Expert domains: {domains}\\n\")\n",
    "    \n",
    "    # Run expert consultation mode\n",
    "    prediction = responder(query=query, mode='experts', domains=domains, max_iterations=2)\n",
    "    \n",
    "    print(\"Expert Opinions:\")\n",
    "    for domain, opinion in prediction.expert_opinions.items():\n",
    "        print(f\"  {domain.capitalize()}: {opinion}\\n\")\n",
    "    \n",
    "    print(f\"Synthesized Response: {prediction.synthesis}\\n\")\n",
    "    print(f\"Experts consulted: {len(prediction.expert_opinions)}\")\n",
    "else:\n",
    "    print(\"Skipping expert mode test - API key not configured\")"
   ]
  },
  {
   "cell_type": "code",
   "execution_count": null,
   "metadata": {},
   "outputs": [],
   "source": [
    "# Test Expert Mode 4\n",
    "if api_key:\n",
    "    print(\"=== Expert Committee Mode ===\")\n",
    "    \n",
    "    query = \"What is the probability that the CIA was involved in the assassination of JFK?\"\n",
    "    domains = ['Historian 1', 'Historian 2', 'Objective Bayesian Analyst', 'Subjective Bayesian Analyst', 'Government Official']\n",
    "    print(f\"Query: {query}\")\n",
    "    print(f\"Expert domains: {domains}\\n\")\n",
    "    \n",
    "    # Run expert consultation mode\n",
    "    prediction = responder(query=query, mode='experts', domains=domains, max_iterations=2)\n",
    "    \n",
    "    print(\"Expert Opinions:\")\n",
    "    for domain, opinion in prediction.expert_opinions.items():\n",
    "        print(f\"  {domain.capitalize()}: {opinion}\\n\")\n",
    "    \n",
    "    print(f\"Synthesized Response: {prediction.synthesis}\\n\")\n",
    "    print(f\"Experts consulted: {len(prediction.expert_opinions)}\")\n",
    "else:\n",
    "    print(\"Skipping expert mode test - API key not configured\")"
   ]
  },
  {
   "cell_type": "markdown",
   "metadata": {},
   "source": [
    "## 6. Comparative Analysis\n",
    "\n",
    "Let's compare how the same query is handled across different modes to see the value of dialectical processes."
   ]
  },
  {
   "cell_type": "code",
   "execution_count": null,
   "metadata": {},
   "outputs": [],
   "source": [
    "# Comparative analysis across modes\n",
    "if api_key:\n",
    "    print(\"=== Comparative Analysis ===\")\n",
    "    \n",
    "    test_query = \"What are the ethical implications of artificial intelligence?\"\n",
    "    print(f\"Query: {test_query}\\n\")\n",
    "    \n",
    "    modes_to_test = ['binary', 'debate', 'experts']\n",
    "    results = {}\n",
    "    \n",
    "    for mode in modes_to_test:\n",
    "        print(f\"Running {mode} mode...\")\n",
    "        try:\n",
    "            if mode == 'experts':\n",
    "                prediction = responder(query=test_query, mode=mode, domains=['ethics', 'technology', 'philosophy'])\n",
    "            else:\n",
    "                prediction = responder(query=test_query, mode=mode, max_iterations=1)\n",
    "            \n",
    "            results[mode] = prediction\n",
    "            print(f\"✓ {mode} completed\")\n",
    "        except Exception as e:\n",
    "            print(f\"✗ {mode} failed: {e}\")\n",
    "            results[mode] = None\n",
    "    \n",
    "    print(\"\\n\" + \"=\"*50)\n",
    "    print(\"RESULTS COMPARISON\")\n",
    "    print(\"=\"*50)\n",
    "    \n",
    "    for mode, prediction in results.items():\n",
    "        if prediction:\n",
    "            print(f\"\\n{mode.upper()} MODE:\")\n",
    "            print(\"-\" * 30)\n",
    "            \n",
    "            if hasattr(prediction, 'synthesis'):\n",
    "                print(f\"Final Output: {prediction.synthesis}\")\n",
    "            elif hasattr(prediction, 'thesis'):\n",
    "                print(f\"Thesis: {prediction.thesis}\")\n",
    "            \n",
    "            # Show unique characteristics of each mode\n",
    "            if mode == 'binary' and hasattr(prediction, 'critiques'):\n",
    "                print(f\"Critiques: {len(prediction.critiques)}\")\n",
    "            elif mode == 'debate' and hasattr(prediction, 'debate_history'):\n",
    "                print(f\"Debate rounds: {len(prediction.debate_history)}\")\n",
    "            elif mode == 'experts' and hasattr(prediction, 'expert_opinions'):\n",
    "                print(f\"Expert domains: {list(prediction.expert_opinions.keys())}\")\n",
    "else:\n",
    "    print(\"Skipping comparative analysis - API key not configured\")"
   ]
  },
  {
   "cell_type": "markdown",
   "metadata": {},
   "source": [
    "## 7. Custom Usage Examples\n",
    "\n",
    "Here are some examples of how to use diaspy components in your own applications."
   ]
  },
  {
   "cell_type": "code",
   "execution_count": null,
   "metadata": {},
   "outputs": [],
   "source": [
    "# Custom usage examples\n",
    "if api_key:\n",
    "    print(\"=== Custom Usage Examples ===\\n\")\n",
    "    \n",
    "    # Example 1: Using specific compiled agents\n",
    "    print(\"1. Using individual compiled agents:\")\n",
    "    thesis_agent_compiled = compiled_agents['thesis']\n",
    "    antithesis_agent_compiled = compiled_agents['antithesis']\n",
    "    \n",
    "    query = \"What is the purpose of education?\"\n",
    "    thesis = thesis_agent_compiled(query)\n",
    "    antithesis = antithesis_agent_compiled(query, thesis)\n",
    "    \n",
    "    print(f\"Query: {query}\")\n",
    "    print(f\"Compiled Thesis: {thesis}\")\n",
    "    print(f\"Compiled Antithesis: {antithesis}\\n\")\n",
    "    \n",
    "    # Example 2: Custom responder configuration\n",
    "    print(\"2. Custom responder with specific parameters:\")\n",
    "    custom_prediction = responder(\n",
    "        query=\"Should we colonize Mars?\",\n",
    "        mode='binary',\n",
    "        max_iterations=3  # More iterations for higher quality\n",
    "    )\n",
    "    print(f\"High-iteration synthesis: {custom_prediction.synthesis}\\n\")\n",
    "    \n",
    "    # Example 3: Batch processing multiple queries\n",
    "    print(\"3. Batch processing multiple queries:\")\n",
    "    queries = [\n",
    "        \"What is the meaning of friendship?\",\n",
    "        \"How should we approach aging?\",\n",
    "        \"What makes art valuable?\"\n",
    "    ]\n",
    "    \n",
    "    batch_results = []\n",
    "    for i, q in enumerate(queries):\n",
    "        try:\n",
    "            result = responder(query=q, mode='binary', max_iterations=1)\n",
    "            batch_results.append(result.synthesis)\n",
    "            print(f\"Query {i+1}: {q}\")\n",
    "            print(f\"Result: {result.synthesis[:100]}...\\n\")\n",
    "        except Exception as e:\n",
    "            print(f\"Query {i+1} failed: {e}\\n\")\n",
    "            batch_results.append(None)\n",
    "    \n",
    "    print(f\"Processed {len([r for r in batch_results if r])} out of {len(queries)} queries successfully\")\n",
    "else:\n",
    "    print(\"Skipping custom usage examples - API key not configured\")"
   ]
  },
  {
   "cell_type": "markdown",
   "metadata": {},
   "source": [
    "## 8. Performance and Quality Metrics\n",
    "\n",
    "Let's examine how the dialectical process improves response quality over single-agent approaches."
   ]
  },
  {
   "cell_type": "code",
   "execution_count": null,
   "metadata": {},
   "outputs": [],
   "source": [
    "# Performance analysis\n",
    "if api_key:\n",
    "    from diaspy.utils import philosophical_metric\n",
    "    \n",
    "    print(\"=== Performance and Quality Analysis ===\\n\")\n",
    "    \n",
    "    test_query = \"How can technology enhance human well-being?\"\n",
    "    \n",
    "    # Compare single agent vs dialectical process\n",
    "    print(\"Comparing single-agent vs dialectical approaches:\")\n",
    "    print(f\"Query: {test_query}\\n\")\n",
    "    \n",
    "    # Single agent (just thesis)\n",
    "    single_response = compiled_agents['thesis'](test_query)\n",
    "    single_score = philosophical_metric(None, single_response)\n",
    "    \n",
    "    print(\"SINGLE AGENT APPROACH:\")\n",
    "    print(f\"Response: {single_response}\")\n",
    "    print(f\"Quality Score: {single_score:.3f}\\n\")\n",
    "    \n",
    "    # Dialectical process\n",
    "    dialectical_prediction = responder(query=test_query, mode='binary', max_iterations=2)\n",
    "    dialectical_score = philosophical_metric(None, dialectical_prediction)\n",
    "    \n",
    "    print(\"DIALECTICAL APPROACH:\")\n",
    "    print(f\"Final Synthesis: {dialectical_prediction.synthesis}\")\n",
    "    print(f\"Quality Score: {dialectical_score:.3f}\")\n",
    "    print(f\"Iterations Used: {len(dialectical_prediction.critiques)}\\n\")\n",
    "    \n",
    "    # Score improvement with zero handling\n",
    "    improvement = dialectical_score - single_score\n",
    "    if single_score == 0:\n",
    "        improvement_pct = float('inf') if improvement > 0 else 0.0\n",
    "        print(f\"Quality Improvement: {improvement:.3f} (infinite % increase since base score was 0)\")\n",
    "    else:\n",
    "        improvement_pct = (improvement / single_score) * 100\n",
    "        print(f\"Quality Improvement: {improvement:.3f} ({improvement_pct:.1f}% increase)\")\n",
    "    \n",
    "    # Show the dialectical process components\n",
    "    print(\"\\nDialectical Process Breakdown:\")\n",
    "    print(f\"Thesis: {dialectical_prediction.thesis}\")\n",
    "    print(f\"Antithesis: {dialectical_prediction.antithesis}\")\n",
    "    print(f\"Synthesis: {dialectical_prediction.synthesis}\")\n",
    "    if dialectical_prediction.critiques:\n",
    "        print(f\"Final Critique: {dialectical_prediction.critiques[-1]}\")\n",
    "else:\n",
    "    print(\"Skipping performance analysis - API key not configured\")"
   ]
  },
  {
   "cell_type": "code",
   "execution_count": null,
   "metadata": {},
   "outputs": [],
   "source": []
  },
  {
   "cell_type": "code",
   "execution_count": null,
   "metadata": {},
   "outputs": [],
   "source": []
  }
 ],
 "metadata": {
  "kernelspec": {
   "display_name": "Python [conda env:dspy]",
   "language": "python",
   "name": "conda-env-dspy-py"
  },
  "language_info": {
   "codemirror_mode": {
    "name": "ipython",
    "version": 3
   },
   "file_extension": ".py",
   "mimetype": "text/x-python",
   "name": "python",
   "nbconvert_exporter": "python",
   "pygments_lexer": "ipython3",
   "version": "3.13.5"
  }
 },
 "nbformat": 4,
 "nbformat_minor": 4
}

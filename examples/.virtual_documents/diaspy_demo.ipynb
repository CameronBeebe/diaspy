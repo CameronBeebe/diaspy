


# Import necessary modules
import os
import dspy
from diaspy.responders import DialecticResponder
from diaspy.utils import compile_agents, trainset
from diaspy.agents import ThesisAgent, AntithesisAgent, SynthesisAgent, CriticAgent

# Setup environment (you need to set your XAI_API_KEY)
api_key = os.environ.get('XAI_API_KEY')
if not api_key:
    print("Warning: XAI_API_KEY not set. Please set it before running the cells below.")
    print("export XAI_API_KEY='your-api-key-here'")
else:
    print("API key found, setting up DSPy with Grok-3-mini...")
    grok = dspy.LM(model="xai/grok-3-mini", api_key=api_key, cache=False)
    dspy.settings.configure(lm=grok)
    print("✓ DSPy configured successfully")





# Test individual agents before compilation
if api_key:
    # Create uncompiled agents for initial testing
    thesis_agent = ThesisAgent()
    antithesis_agent = AntithesisAgent()
    synthesis_agent = SynthesisAgent()
    critic_agent = CriticAgent()
    
    # Test query
    test_query = "What is the nature of consciousness?"
    
    print("=== Testing Individual Agents ===")
    print(f"Query: {test_query}\n")
    
    # Generate thesis
    thesis = thesis_agent(test_query)
    print(f"Thesis: {thesis}\n")
    
    # Generate antithesis
    antithesis = antithesis_agent(test_query, thesis)
    print(f"Antithesis: {antithesis}\n")
    
    # Generate synthesis
    synthesis = synthesis_agent(test_query, thesis, antithesis)
    print(f"Synthesis: {synthesis}\n")
    
    # Critique the synthesis
    critique, score = critic_agent(test_query, thesis, antithesis, synthesis)
    print(f"Critique: {critique}")
    print(f"Score: {score}\n")
else:
    print("Skipping agent tests - API key not configured")




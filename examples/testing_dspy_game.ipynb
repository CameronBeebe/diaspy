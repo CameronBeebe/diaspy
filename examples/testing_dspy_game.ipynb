{
 "cells": [
  {
   "cell_type": "code",
   "execution_count": 1,
   "id": "2fcdb2b5-a745-4355-bd22-d3d50750a0b0",
   "metadata": {},
   "outputs": [],
   "source": [
    "import dspy\n",
    "import os"
   ]
  },
  {
   "cell_type": "code",
   "execution_count": 2,
   "id": "5e471d36-de5f-4ea5-b452-16b11c55480f",
   "metadata": {},
   "outputs": [],
   "source": [
    "key = os.getenv('XAI_API_KEY')"
   ]
  },
  {
   "cell_type": "code",
   "execution_count": 3,
   "id": "08d365a9-ec85-4af7-ac21-33e3670d9bda",
   "metadata": {},
   "outputs": [],
   "source": [
    "grok3mini = dspy.LM(model = \"xai/grok-3-mini\", api_key = key, cache=False)"
   ]
  },
  {
   "cell_type": "code",
   "execution_count": 4,
   "id": "7a796635-419e-4575-838c-2f3f4f6cfde0",
   "metadata": {},
   "outputs": [],
   "source": [
    "dspy.settings.configure(lm = grok3mini)"
   ]
  },
  {
   "cell_type": "code",
   "execution_count": 5,
   "id": "874c03ef-730e-45f9-aa7e-906e0c9c4bc7",
   "metadata": {},
   "outputs": [],
   "source": [
    "class dspy_generator(dspy.Signature):\n",
    "    '''Generates a dspy Module '''\n",
    "    task = dspy.InputField(desc = \"A user task\")\n",
    "    output_sig = dspy.OutputField(desc = \"A DSPy Signature suited for the task\")\n",
    "    output_mod = dspy.OutputField(desc = \"A DSPy Module suited for the task\")"
   ]
  },
  {
   "cell_type": "code",
   "execution_count": 6,
   "id": "8dc5e2a7-a662-4420-ba7f-7c94b636cba0",
   "metadata": {},
   "outputs": [],
   "source": [
    "cot_dspy = dspy.ChainOfThought(dspy_generator)"
   ]
  },
  {
   "cell_type": "code",
   "execution_count": 7,
   "id": "a2d46cc5-8f55-4931-b9d5-f0165d2d979a",
   "metadata": {},
   "outputs": [],
   "source": [
    "dspy_test_pipe = cot_dspy(task = \"I need to integrate a procedural game function with DSPy, which takes lore (and structured lore) and the game state, and returns generative content such as events, characters, locations, map features, etc.\")"
   ]
  },
  {
   "cell_type": "code",
   "execution_count": 8,
   "id": "9f81fb4f-98bf-44d9-864d-c317b5c6e510",
   "metadata": {},
   "outputs": [
    {
     "data": {
      "text/plain": [
       "Prediction(\n",
       "    reasoning=\"The task involves generating procedural game content based on inputs like lore (which could be unstructured or structured text) and the current game state. To integrate this with DSPy, I first need to define a DSPy Signature that captures the inputs (lore and game state) and the output (generative content, such as events, characters, locations, and map features). This ensures the module knows what to expect and produce. For the Signature, I'll use simple string inputs for lore and game state to keep it flexible, as DSPy often handles text-based inputs well for language model tasks. The output will be a string representing the generated content, which can be parsed later if needed.\\n\\nFor the DSPy Module, I'll create a basic module that uses the Signature with a Predict operation. This module will take the inputs, pass them through the predictor, and return the generated content. This approach is straightforward for generative tasks and can be optimized later with DSPy’s compilation features if more complexity is needed.\",\n",
       "    output_sig='import dspy\\n\\nclass GenerateGameContent(dspy.Signature):\\n    \"\"\"Generate procedural game content based on lore and game state.\"\"\"\\n    \\n    lore: str = dspy.Input  # The lore or structured lore provided as input\\n    game_state: str = dspy.Input  # The current state of the game\\n    generative_content: str = dspy.Output  # Generated content such as events, characters, locations, and map features',\n",
       "    output_mod='import dspy\\n\\nclass ProceduralGameModule(dspy.Module):\\n    def __init__(self):\\n        super().__init__()\\n        self.generate = dspy.Predict(GenerateGameContent)\\n    \\n    def forward(self, lore, game_state):\\n        prediction = self.generate(lore=lore, game_state=game_state)\\n        return prediction.generative_content  # Returns the generated content as a string'\n",
       ")"
      ]
     },
     "execution_count": 8,
     "metadata": {},
     "output_type": "execute_result"
    }
   ],
   "source": [
    "dspy_test_pipe"
   ]
  },
  {
   "cell_type": "code",
   "execution_count": null,
   "id": "7bad5ff7-db7a-47c4-910e-8c39ef856ab1",
   "metadata": {},
   "outputs": [],
   "source": [
    "dspy_test_pipe.get('output_sig')"
   ]
  },
  {
   "cell_type": "code",
   "execution_count": null,
   "id": "abcce3fd-d7c3-457d-bb30-eaf9a53047b2",
   "metadata": {},
   "outputs": [],
   "source": [
    "# Import the required module\n",
    "from IPython.display import Code, display\n",
    "\n",
    "# The code string from dspy_test_pipe.get('output_sig')\n",
    "code_string = dspy_test_pipe.get('output_mod')\n",
    "\n",
    "# Function to display code safely\n",
    "def display_code(code_str, language='python'):\n",
    "    \"\"\"\n",
    "    Display a code string in a Jupyter notebook with syntax highlighting.\n",
    "    \n",
    "    Args:\n",
    "        code_str (str): The code string to display.\n",
    "        language (str): The programming language for syntax highlighting (default: 'python').\n",
    "    \"\"\"\n",
    "    if not code_str or not isinstance(code_str, str):\n",
    "        print(\"Error: Code string is empty or invalid.\")\n",
    "        return\n",
    "    # Display the code with syntax highlighting\n",
    "    display(Code(code_str, language=language))\n",
    "\n",
    "# Display the DSPy code\n",
    "display_code(code_string)"
   ]
  },
  {
   "cell_type": "code",
   "execution_count": null,
   "id": "f8dce3e1-819a-4b21-a866-8131dcaef899",
   "metadata": {},
   "outputs": [],
   "source": [
    "# copy and paste\n",
    "class GenerateGameContent(dspy.Signature):\n",
    "    \"\"\"Generate procedural content for a game based on lore and game state.\"\"\"\n",
    "    \n",
    "    lore: str = dspy.InputField(desc=\"The main lore of the game as a descriptive string\")\n",
    "    structured_lore: str = dspy.InputField(desc=\"A structured or parsed version of the lore, e.g., JSON or key-value pairs\")\n",
    "    game_state: str = dspy.InputField(desc=\"The current state of the game, including player status, world conditions, etc.\")\n",
    "    \n",
    "    events: str = dspy.OutputField(desc=\"Generated events as a string, e.g., 'A dragon attacks the village'\")\n",
    "    characters: str = dspy.OutputField(desc=\"Generated characters as a string, e.g., 'A wise old wizard named Merlin'\")\n",
    "    locations: str = dspy.OutputField(desc=\"Generated locations as a string, e.g., 'A mystical forest with ancient ruins'\")\n",
    "    map_features: str = dspy.OutputField(desc=\"Generated map features as a string, e.g., 'A river crossing and a hidden cave'\")"
   ]
  },
  {
   "cell_type": "code",
   "execution_count": null,
   "id": "38d8100d-9d21-4f9c-b6c3-0d09f2970d6f",
   "metadata": {},
   "outputs": [],
   "source": [
    "class ProceduralGameGenerator(dspy.Module):\n",
    "    def __init__(self):\n",
    "        super().__init__()\n",
    "        self.generate = dspy.Predict(GenerateGameContent)  # Uses the Signature to predict outputs\n",
    "    \n",
    "    def forward(self, lore: str, structured_lore: str, game_state: str):\n",
    "        \"\"\"\n",
    "        Forward method to generate content.\n",
    "        \n",
    "        Args:\n",
    "            lore (str): The main lore.\n",
    "            structured_lore (str): The structured lore.\n",
    "            game_state (str): The current game state.\n",
    "        \n",
    "        Returns:\n",
    "            dspy.Prediction: The generated content.\n",
    "        \"\"\"\n",
    "        prediction = self.generate(\n",
    "            lore=lore,\n",
    "            structured_lore=structured_lore,\n",
    "            game_state=game_state\n",
    "        )\n",
    "        return prediction  # Returns a prediction object with the generated fields"
   ]
  },
  {
   "cell_type": "code",
   "execution_count": null,
   "id": "f577df19-1cab-41a1-b07a-c90439c10bf6",
   "metadata": {},
   "outputs": [],
   "source": [
    "# initiate hardcoded class (can remove hardcoding later)\n",
    "dspy_mod = ProceduralGameGenerator()"
   ]
  },
  {
   "cell_type": "code",
   "execution_count": null,
   "id": "9abb1b74-5950-41b9-bc1f-c1a1b25c46ad",
   "metadata": {},
   "outputs": [],
   "source": [
    "test_generate = dspy_mod(\n",
    "    lore=\"A world ruled by dragons\",\n",
    "    structured_lore='{\"faction\": \"Dragon Lords\", \"era\": \"Age of Fire\"}',\n",
    "    game_state=\"Player is injured, village is under attack\"\n",
    ")"
   ]
  },
  {
   "cell_type": "code",
   "execution_count": null,
   "id": "fc645022-c3a2-428b-a7df-87f6db6c0174",
   "metadata": {},
   "outputs": [],
   "source": [
    "test_generate"
   ]
  },
  {
   "cell_type": "code",
   "execution_count": null,
   "id": "caf35acb-7f44-4630-9468-9b8cda8a90cd",
   "metadata": {},
   "outputs": [],
   "source": [
    "from dspy.functional import TypedPredictor"
   ]
  },
  {
   "cell_type": "code",
   "execution_count": null,
   "id": "a5308523-b24a-4f8f-974b-bd2017c5c47d",
   "metadata": {},
   "outputs": [],
   "source": []
  }
 ],
 "metadata": {
  "kernelspec": {
   "display_name": "Python [conda env:dspy] *",
   "language": "python",
   "name": "conda-env-dspy-py"
  },
  "language_info": {
   "codemirror_mode": {
    "name": "ipython",
    "version": 3
   },
   "file_extension": ".py",
   "mimetype": "text/x-python",
   "name": "python",
   "nbconvert_exporter": "python",
   "pygments_lexer": "ipython3",
   "version": "3.13.5"
  }
 },
 "nbformat": 4,
 "nbformat_minor": 5
}
